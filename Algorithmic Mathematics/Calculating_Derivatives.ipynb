{
 "cells": [
  {
   "cell_type": "code",
   "execution_count": 1,
   "id": "c29657d0",
   "metadata": {},
   "outputs": [],
   "source": [
    "import sympy as sp\n",
    "import math"
   ]
  },
  {
   "cell_type": "code",
   "execution_count": 2,
   "id": "07d627e5",
   "metadata": {},
   "outputs": [],
   "source": [
    "def generate_derivative_expression(expression, variable):\n",
    "    expression = expression.replace('^', '**')\n",
    "    expression = expression.replace('tan', 'math.tan')  # Replace 'tan' with 'math.tan' for evaluation\n",
    "    derivative_expression = ''\n",
    "    for term in expression.split('+'):\n",
    "        term = term.strip()\n",
    "        if term:\n",
    "            if 'tan' in term:\n",
    "                derivative = '(sec({})**2)'.format(variable)\n",
    "            else:\n",
    "                derivative = str(sp.diff(term, variable))\n",
    "            derivative_expression += derivative + ' + '\n",
    "    derivative_expression = derivative_expression.rstrip(' +')\n",
    "    return derivative_expression\n",
    "\n",
    "def evaluate_derivative(expression, value_of_x, h=0.00000000001):\n",
    "    expression = expression.replace('^', '**')\n",
    "    expression = expression.replace('tan', 'math.tan')  # Replace 'tan' with 'math.tan' for evaluation\n",
    "    x = value_of_x\n",
    "    f = lambda x: eval(expression, {'math': math, 'cos': math.cos,'sin':math.sin}, {'x': x})\n",
    "    derivative = (f(x + h) - f(x)) / h\n",
    "    return derivative"
   ]
  },
  {
   "cell_type": "code",
   "execution_count": null,
   "id": "ddc55085",
   "metadata": {},
   "outputs": [],
   "source": [
    "expression = input(\"Enter the function as a function of x\\n\")\n",
    "variable = 'x'\n",
    "\n",
    "derivative_expression = generate_derivative_expression(expression, variable)\n",
    "print(\"Derivative Expression:\", derivative_expression)\n",
    "\n",
    "x_value = float(input(\"Enter the value of x at which you wish to calculate the derivative:\\n\"))\n",
    "derivative_value = evaluate_derivative(expression, x_value)\n",
    "print(\"Derivative Value at x =\", x_value, \":\", derivative_value)"
   ]
  },
  {
   "cell_type": "code",
   "execution_count": null,
   "id": "7017bd40",
   "metadata": {},
   "outputs": [],
   "source": []
  }
 ],
 "metadata": {
  "kernelspec": {
   "display_name": "Python 3 (ipykernel)",
   "language": "python",
   "name": "python3"
  },
  "language_info": {
   "codemirror_mode": {
    "name": "ipython",
    "version": 3
   },
   "file_extension": ".py",
   "mimetype": "text/x-python",
   "name": "python",
   "nbconvert_exporter": "python",
   "pygments_lexer": "ipython3",
   "version": "3.9.16"
  }
 },
 "nbformat": 4,
 "nbformat_minor": 5
}
