{
 "cells": [
  {
   "attachments": {
    "image.png": {
     "image/png": "[encoded data removed]"
    }
   },
   "cell_type": "markdown",
   "id": "40d8124d",
   "metadata": {},
   "source": [
    "# Secant Line Method\n",
    "\n",
    "![image.png](attachment:image.png)\n",
    "\n",
    "By the principle of Triangulation (Utilizing Similar Triangle Properties)\n",
    "\n",
    "$\\frac{BC}{AC}=\\frac{PQ}{AQ}$\n",
    "\n",
    "then from figure,\n",
    "\n",
    "$\\frac{f(x_{0})}{x_{0}-x_{2}}=\\frac{f(x_{1})}{x_{1}-x_{2}}$\n",
    "\n",
    "**or,**\n",
    "\n",
    "$f(x_{0})x_{1}-f(x_{0})x_{2}=f(x_{1})x_{0}-f(x_{1})x_{2}$\n",
    "\n",
    "**or,**\n",
    "\n",
    "$f(x_{1})x_{2}-f(x_{0})x_{2}=f(x_{1})x_{0}-f(x_{0})x_{1}$\n",
    "\n",
    "**or,**\n",
    "\n",
    "$x_{2}=\\frac{f(x_{1})x_{0}-f(x_{0})x_{1}}{f(x_{1})-f(x_{0})}$...................equation A\n",
    "\n",
    "\n",
    "Here, equation A, is the required equation\n"
   ]
  },
  {
   "cell_type": "code",
   "execution_count": 16,
   "id": "a4ed230d",
   "metadata": {},
   "outputs": [],
   "source": [
    "import math"
   ]
  },
  {
   "cell_type": "code",
   "execution_count": 17,
   "id": "83a13922",
   "metadata": {},
   "outputs": [],
   "source": [
    "# Define your function here, this function will create a mathematical evaluation\n",
    "def f(x):\n",
    "    \n",
    "    return eval(user_equation, {\"__builtins__\": None}, {\"x\": x, \"sin\": math.sin, \"cos\": math.cos, \"tan\": math.tan})"
   ]
  },
  {
   "cell_type": "markdown",
   "id": "c598871a",
   "metadata": {},
   "source": [
    "\"__builtins__\": None\n",
    "\n",
    "In the eval() function restricts access to the built-in functions and variables within the evaluation environment. By default, the eval() function has access to the built-in functions and variables, which could potentially be unsafe if untrusted code is being evaluated.\n",
    "\n",
    "By default, the eval() function has access to the built-in functions and variables, which could potentially be unsafe if untrusted code is being evaluated.\n",
    "\n",
    "Setting __builtins__ to None prevents the evaluated code from directly accessing or modifying built-in functions, such as print, open, eval, or exec."
   ]
  },
  {
   "cell_type": "code",
   "execution_count": 18,
   "id": "75c76dae",
   "metadata": {},
   "outputs": [],
   "source": [
    "#Secant Function\n",
    "def secant_method(x0, x1, epsilon, max_iterations):\n",
    "    for i in range(max_iterations):\n",
    "        x2 = (f(x1) * x0 - f(x0) * x1) / (f(x1) - f(x0))\n",
    "\n",
    "        if abs(x2 - x1) < epsilon:\n",
    "            return x2\n",
    "\n",
    "        x0, x1 = x1, x2\n",
    "\n",
    "    return None  # No root found within the given maximum number of iterations"
   ]
  },
  {
   "cell_type": "code",
   "execution_count": 19,
   "id": "d0db060a",
   "metadata": {},
   "outputs": [
    {
     "name": "stdout",
     "output_type": "stream",
     "text": [
      "Enter the equation (in terms of x): 5*cos(x)+3*sin(x)-3\n"
     ]
    }
   ],
   "source": [
    "# Get equation from the user\n",
    "user_equation = input(\"Enter the equation (in terms of x): \")"
   ]
  },
  {
   "cell_type": "code",
   "execution_count": 20,
   "id": "41fdeb6d",
   "metadata": {},
   "outputs": [
    {
     "name": "stdout",
     "output_type": "stream",
     "text": [
      "Enter the initial guess x0: 1\n",
      "Enter the initial guess x1: 4\n",
      "The root is approximately: 1.5707963267948966\n"
     ]
    }
   ],
   "source": [
    "# Example usage\n",
    "x0 = float(input(\"Enter the initial guess x0: \"))\n",
    "x1 = float(input(\"Enter the initial guess x1: \"))\n",
    "epsilon = 1e-6  # Tolerance or desired accuracy\n",
    "max_iterations = 100  # Maximum number of iterations\n",
    "\n",
    "root = secant_method(x0, x1, epsilon, max_iterations)\n",
    "\n",
    "if root is not None:\n",
    "    print(f\"The root is approximately: {root}\")\n",
    "else:\n",
    "    print(\"No root found within the given maximum number of iterations.\")"
   ]
  },
  {
   "cell_type": "code",
   "execution_count": null,
   "id": "57c90b46",
   "metadata": {},
   "outputs": [],
   "source": []
  }
 ],
 "metadata": {
  "kernelspec": {
   "display_name": "Python 3 (ipykernel)",
   "language": "python",
   "name": "python3"
  },
  "language_info": {
   "codemirror_mode": {
    "name": "ipython",
    "version": 3
   },
   "file_extension": ".py",
   "mimetype": "text/x-python",
   "name": "python",
   "nbconvert_exporter": "python",
   "pygments_lexer": "ipython3",
   "version": "3.9.16"
  }
 },
 "nbformat": 4,
 "nbformat_minor": 5
}
